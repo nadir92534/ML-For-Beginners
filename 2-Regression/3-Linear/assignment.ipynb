{
 "cells": [
  {
   "cell_type": "markdown",
   "metadata": {},
   "source": [
    "## Grade students\n",
    "\n",
    "Problem: Predict IQ of child based on IQ of mother"
   ]
  },
  {
   "cell_type": "code",
   "execution_count": null,
   "metadata": {},
   "outputs": [],
   "source": [
    "# Prepare data\n",
    "import pandas as pd\n",
    "\n",
    "kids = pd.read_csv(\"../data/kid_iq.csv\")\n",
    "\n",
    "# kid_score : child IQ\n",
    "# mom_hs : mom's education\n",
    "# mom_iq : mom IQ\n",
    "# mom_work : mom's work\n",
    "# mom_age : mom' age\n",
    "\n",
    "kids.head()"
   ]
  },
  {
   "cell_type": "code",
   "execution_count": null,
   "metadata": {},
   "outputs": [],
   "source": [
    "# display data\n",
    "import matplotlib.pyplot as plt\n",
    "\n",
    "plt.scatter('mom_iq', 'kid_score', data=kids)"
   ]
  },
  {
   "cell_type": "code",
   "execution_count": null,
   "metadata": {},
   "outputs": [],
   "source": [
    "# split in test and training data\n",
    "from sklearn.linear_model import LinearRegression\n",
    "from sklearn.metrics import mean_squared_error\n",
    "from sklearn.model_selection import train_test_split\n",
    "import numpy as np\n",
    "\n",
    "X = kids['mom_iq'].to_numpy().reshape(-1, 1)\n",
    "y = kids['kid_score']\n",
    "\n",
    "X_train, X_test, y_train, y_test = train_test_split(X, y, test_size=0.2)"
   ]
  },
  {
   "cell_type": "code",
   "execution_count": null,
   "metadata": {},
   "outputs": [],
   "source": [
    "# linear regression\n",
    "\n",
    "lin_reg = LinearRegression()\n",
    "lin_reg.fit(X_train,y_train)\n",
    "\n",
    "pred = lin_reg.predict(X_test)"
   ]
  },
  {
   "cell_type": "code",
   "execution_count": null,
   "metadata": {},
   "outputs": [],
   "source": [
    "# polymonial regression\n",
    "\n",
    "from sklearn.pipeline import make_pipeline\n",
    "from sklearn.preprocessing import PolynomialFeatures\n",
    "\n",
    "pipeline = make_pipeline(PolynomialFeatures(2), LinearRegression())\n",
    "\n",
    "pipeline.fit(X_train,y_train)\n",
    "pred = pipeline.predict(X_test)"
   ]
  },
  {
   "cell_type": "code",
   "execution_count": null,
   "metadata": {},
   "outputs": [],
   "source": [
    "# mean error\n",
    "mse = np.sqrt(mean_squared_error(y_test,pred))\n",
    "print(f'Mean error: {mse:3.3} ({mse/np.mean(pred)*100:3.3}%)')\n",
    "\n",
    "# model determination\n",
    "score = pipeline.score(X_train,y_train)\n",
    "print('Model determination: ', score)"
   ]
  },
  {
   "cell_type": "code",
   "execution_count": null,
   "metadata": {},
   "outputs": [],
   "source": [
    "# show graph\n",
    "\n",
    "plt.scatter(X_test, y_test, color='black')\n",
    "plt.scatter(X_test, pred, color='red')\n",
    "\n",
    "plt.xlabel(\"Mom's IQ\")\n",
    "plt.ylabel(\"Kid's IQ\")\n",
    "plt.title(\"A Graph Plot Showing Kid's IQ against Mom's IQ\")\n",
    "plt.show()"
   ]
  },
  {
   "cell_type": "code",
   "execution_count": null,
   "metadata": {},
   "outputs": [],
   "source": [
    "# test:\n",
    "\n",
    "pipeline.predict([[200]])"
   ]
  },
  {
   "cell_type": "code",
   "execution_count": null,
   "metadata": {},
   "outputs": [],
   "source": [
    "# now, we will try including mom's age to improve the model's accuracy\n",
    "\n",
    "X = kids[['mom_iq', 'mom_age']]\n",
    "X_train, X_test, y_train, y_test = train_test_split(X, y, test_size=0.2)\n",
    "\n",
    "X_train\n",
    "y_train"
   ]
  }
 ],
 "metadata": {
  "kernelspec": {
   "display_name": ".venv",
   "language": "python",
   "name": "python3"
  },
  "language_info": {
   "codemirror_mode": {
    "name": "ipython",
    "version": 3
   },
   "file_extension": ".py",
   "mimetype": "text/x-python",
   "name": "python",
   "nbconvert_exporter": "python",
   "pygments_lexer": "ipython3",
   "version": "3.11.4"
  }
 },
 "nbformat": 4,
 "nbformat_minor": 2
}
